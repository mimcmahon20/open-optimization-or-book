{
 "cells": [
  {
   "cell_type": "code",
   "execution_count": 1,
   "metadata": {},
   "outputs": [
    {
     "name": "stdout",
     "output_type": "stream",
     "text": [
      "Welcome to the CBC MILP Solver \n",
      "Version: 2.10.3 \n",
      "Build Date: Dec 15 2019 \n",
      "\n",
      "command line - /Users/maguiremcmahon/anaconda3/lib/python3.11/site-packages/pulp/solverdir/cbc/osx/64/cbc /var/folders/t_/v0rbfst90tz2msnttg7gck640000gn/T/c70b0f6c64bf43fa91273883e9a9ed9f-pulp.mps max timeMode elapsed branch printingOptions all solution /var/folders/t_/v0rbfst90tz2msnttg7gck640000gn/T/c70b0f6c64bf43fa91273883e9a9ed9f-pulp.sol (default strategy 1)\n",
      "At line 2 NAME          MODEL\n",
      "At line 3 ROWS\n",
      "At line 9 COLUMNS\n",
      "At line 28 RHS\n",
      "At line 33 BOUNDS\n",
      "At line 34 ENDATA\n",
      "Problem MODEL has 4 rows, 6 columns and 12 elements\n",
      "Coin0008I MODEL read with 0 errors\n",
      "Option for timeMode changed from cpu to elapsed\n",
      "Presolve 4 (0) rows, 6 (0) columns and 12 (0) elements\n",
      "0  Obj -0 Dual inf 42.999999 (6)\n",
      "0  Obj -0 Dual inf 42.999999 (6)\n",
      "6  Obj 850\n",
      "Optimal - objective value 850\n",
      "Optimal objective 850 - 6 iterations time 0.002\n",
      "Option for printingOptions changed from normal to all\n",
      "Total time (CPU seconds):       0.00   (Wallclock seconds):       0.01\n",
      "\n",
      "x_A1 = 16.666667\n",
      "x_A2 = 33.333333\n",
      "x_B1 = 66.666667\n",
      "x_B2 = 83.333333\n",
      "x_C1 = 0.0\n",
      "x_C2 = 0.0\n",
      "Total Profit = 850.0\n"
     ]
    }
   ],
   "source": [
    "from pulp import *\n",
    "\n",
    "# Define the problem\n",
    "prob = LpProblem(\"Production_Planning\", LpMaximize)\n",
    "\n",
    "# Decision Variables\n",
    "x_A1 = LpVariable(\"x_A1\", 0) # Product A in Month 1\n",
    "x_A2 = LpVariable(\"x_A2\", 0) # Product A in Month 2\n",
    "x_B1 = LpVariable(\"x_B1\", 0) # Product B in Month 1\n",
    "x_B2 = LpVariable(\"x_B2\", 0) # Product B in Month 2\n",
    "x_C1 = LpVariable(\"x_C1\", 0) # Product C in Month 1\n",
    "x_C2 = LpVariable(\"x_C2\", 0) # Product C in Month 2\n",
    "\n",
    "# Objective Function\n",
    "prob += 5 * (x_A1 + x_A2) + 4 * (x_B1 + x_B2) + 8 * (x_C1 + x_C2), \"Total Profit\"\n",
    "\n",
    "# Constraints\n",
    "prob += x_A1 + 2*x_B1 + 3*x_C1 <= 150, \"Machine 1 in Month 1\"\n",
    "prob += x_A2 + 2*x_B2 + 3*x_C2 <= 200, \"Machine 1 in Month 2\"\n",
    "prob += 2*x_A1 + x_B1 + 3*x_C1 <= 100, \"Machine 2 in Month 1\"\n",
    "prob += 2*x_A2 + x_B2 + 3*x_C2 <= 150, \"Machine 2 in Month 2\"\n",
    "\n",
    "# Solve the problem\n",
    "prob.solve()\n",
    "\n",
    "# Print the solution\n",
    "for v in prob.variables():\n",
    "    print(v.name, \"=\", v.varValue)\n",
    "\n",
    "print(\"Total Profit =\", value(prob.objective))\n"
   ]
  }
 ],
 "metadata": {
  "kernelspec": {
   "display_name": "base",
   "language": "python",
   "name": "python3"
  },
  "language_info": {
   "codemirror_mode": {
    "name": "ipython",
    "version": 3
   },
   "file_extension": ".py",
   "mimetype": "text/x-python",
   "name": "python",
   "nbconvert_exporter": "python",
   "pygments_lexer": "ipython3",
   "version": "3.11.4"
  }
 },
 "nbformat": 4,
 "nbformat_minor": 2
}
