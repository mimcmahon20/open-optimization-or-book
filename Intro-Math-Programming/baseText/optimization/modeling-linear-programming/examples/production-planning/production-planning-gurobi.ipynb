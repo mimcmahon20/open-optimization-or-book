{
 "cells": [
  {
   "cell_type": "code",
   "execution_count": 1,
   "metadata": {},
   "outputs": [
    {
     "name": "stdout",
     "output_type": "stream",
     "text": [
      "Set parameter Username\n",
      "Academic license - for non-commercial use only - expires 2024-08-24\n",
      "Gurobi Optimizer version 10.0.2 build v10.0.2rc0 (mac64[arm])\n",
      "\n",
      "CPU model: Apple M1 Pro\n",
      "Thread count: 10 physical cores, 10 logical processors, using up to 10 threads\n",
      "\n",
      "Optimize a model with 4 rows, 6 columns and 12 nonzeros\n",
      "Model fingerprint: 0x8bfb3616\n",
      "Coefficient statistics:\n",
      "  Matrix range     [1e+00, 3e+00]\n",
      "  Objective range  [4e+00, 8e+00]\n",
      "  Bounds range     [0e+00, 0e+00]\n",
      "  RHS range        [1e+02, 2e+02]\n",
      "Presolve time: 0.00s\n",
      "Presolved: 4 rows, 6 columns, 12 nonzeros\n",
      "\n",
      "Iteration    Objective       Primal Inf.    Dual Inf.      Time\n",
      "       0    5.2000000e+31   9.000000e+30   5.200000e+01      0s\n",
      "       4    8.5000000e+02   0.000000e+00   0.000000e+00      0s\n",
      "\n",
      "Solved in 4 iterations and 0.00 seconds (0.00 work units)\n",
      "Optimal objective  8.500000000e+02\n",
      "x[A,1] 16.6667\n",
      "x[A,2] 33.3333\n",
      "x[B,1] 66.6667\n",
      "x[B,2] 83.3333\n",
      "x[C,1] 0\n",
      "x[C,2] 0\n",
      "Obj: 850\n"
     ]
    }
   ],
   "source": [
    "from gurobipy import GRB, Model\n",
    "\n",
    "# Create a new model\n",
    "m = Model(\"production_planning\")\n",
    "\n",
    "# Decision Variables\n",
    "products = ['A', 'B', 'C']\n",
    "months = ['1', '2']\n",
    "x = m.addVars(products, months, name=\"x\", vtype=GRB.CONTINUOUS)\n",
    "\n",
    "# Objective Function\n",
    "m.setObjective(5 * (x['A', '1'] + x['A', '2']) + \n",
    "               4 * (x['B', '1'] + x['B', '2']) + \n",
    "               8 * (x['C', '1'] + x['C', '2']), GRB.MAXIMIZE)\n",
    "\n",
    "# Constraints\n",
    "# Machine 1\n",
    "m.addConstr(x['A', '1'] + 2 * x['B', '1'] + 3 * x['C', '1'] <= 150, \"Machine1_Month1\")\n",
    "m.addConstr(x['A', '2'] + 2 * x['B', '2'] + 3 * x['C', '2'] <= 200, \"Machine1_Month2\")\n",
    "\n",
    "# Machine 2\n",
    "m.addConstr(2 * x['A', '1'] + x['B', '1'] + 3 * x['C', '1'] <= 100, \"Machine2_Month1\")\n",
    "m.addConstr(2 * x['A', '2'] + x['B', '2'] + 3 * x['C', '2'] <= 150, \"Machine2_Month2\")\n",
    "\n",
    "# Optimize model\n",
    "m.optimize()\n",
    "\n",
    "# Print solution\n",
    "for v in m.getVars():\n",
    "    print('%s %g' % (v.varName, v.x))\n",
    "\n",
    "print('Obj: %g' % m.objVal)\n"
   ]
  }
 ],
 "metadata": {
  "kernelspec": {
   "display_name": "base",
   "language": "python",
   "name": "python3"
  },
  "language_info": {
   "codemirror_mode": {
    "name": "ipython",
    "version": 3
   },
   "file_extension": ".py",
   "mimetype": "text/x-python",
   "name": "python",
   "nbconvert_exporter": "python",
   "pygments_lexer": "ipython3",
   "version": "3.11.4"
  }
 },
 "nbformat": 4,
 "nbformat_minor": 2
}
