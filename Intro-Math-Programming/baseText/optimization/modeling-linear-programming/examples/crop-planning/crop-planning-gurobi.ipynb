{
 "cells": [
  {
   "cell_type": "code",
   "execution_count": 1,
   "metadata": {},
   "outputs": [
    {
     "name": "stdout",
     "output_type": "stream",
     "text": [
      "Set parameter Username\n",
      "Academic license - for non-commercial use only - expires 2024-08-24\n",
      "Gurobi Optimizer version 10.0.2 build v10.0.2rc0 (mac64[arm])\n",
      "\n",
      "CPU model: Apple M1 Pro\n",
      "Thread count: 10 physical cores, 10 logical processors, using up to 10 threads\n",
      "\n",
      "Optimize a model with 2 rows, 4 columns and 4 nonzeros\n",
      "Model fingerprint: 0xf3c613d9\n",
      "Coefficient statistics:\n",
      "  Matrix range     [1e+00, 1e+00]\n",
      "  Objective range  [4e+02, 6e+02]\n",
      "  Bounds range     [0e+00, 0e+00]\n",
      "  RHS range        [1e+02, 1e+02]\n",
      "Presolve removed 2 rows and 4 columns\n",
      "Presolve time: 0.00s\n",
      "Presolve: All rows and columns removed\n",
      "Iteration    Objective       Primal Inf.    Dual Inf.      Time\n",
      "       0    1.1200000e+05   0.000000e+00   0.000000e+00      0s\n",
      "\n",
      "Solved in 0 iterations and 0.00 seconds (0.00 work units)\n",
      "Optimal objective  1.120000000e+05\n"
     ]
    }
   ],
   "source": [
    "from gurobipy import Model, GRB\n",
    "\n",
    "# Initialize model\n",
    "m = Model(\"Crop Planning\")\n",
    "\n",
    "# Parameters\n",
    "seasons = [1, 2]\n",
    "costs = {(1, 'Wheat'): 150, (1, 'Corn'): 230, (2, 'Wheat'): 130, (2, 'Corn'): 200}\n",
    "revenues = {(1, 'Wheat'): 500, (1, 'Corn'): 750, (2, 'Wheat'): 600, (2, 'Corn'): 800}\n",
    "land_limit = 100\n",
    "\n",
    "# Decision variables\n",
    "w = m.addVars(seasons, name=\"Wheat\")\n",
    "c = m.addVars(seasons, name=\"Corn\")\n",
    "\n",
    "# Objective: Maximize profit\n",
    "profit = sum((revenues[(s, 'Wheat')] - costs[(s, 'Wheat')]) * w[s] + \n",
    "             (revenues[(s, 'Corn')] - costs[(s, 'Corn')]) * c[s] for s in seasons)\n",
    "m.setObjective(profit, GRB.MAXIMIZE)\n",
    "\n",
    "# Constraints\n",
    "for s in seasons:\n",
    "    m.addConstr(w[s] + c[s] <= land_limit, \"LandLimitSeason{}\".format(s))\n",
    "\n",
    "m.optimize()\n"
   ]
  }
 ],
 "metadata": {
  "kernelspec": {
   "display_name": "base",
   "language": "python",
   "name": "python3"
  },
  "language_info": {
   "codemirror_mode": {
    "name": "ipython",
    "version": 3
   },
   "file_extension": ".py",
   "mimetype": "text/x-python",
   "name": "python",
   "nbconvert_exporter": "python",
   "pygments_lexer": "ipython3",
   "version": "3.11.4"
  }
 },
 "nbformat": 4,
 "nbformat_minor": 2
}
