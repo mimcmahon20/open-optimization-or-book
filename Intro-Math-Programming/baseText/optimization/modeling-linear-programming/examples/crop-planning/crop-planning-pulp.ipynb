{
 "cells": [
  {
   "cell_type": "code",
   "execution_count": 4,
   "metadata": {},
   "outputs": [
    {
     "name": "stdout",
     "output_type": "stream",
     "text": [
      "Welcome to the CBC MILP Solver \n",
      "Version: 2.10.3 \n",
      "Build Date: Dec 15 2019 \n",
      "\n",
      "command line - /Users/maguiremcmahon/anaconda3/lib/python3.11/site-packages/pulp/solverdir/cbc/osx/64/cbc /var/folders/t_/v0rbfst90tz2msnttg7gck640000gn/T/cd5a3a1c30dc4b4b9ad7457cf4b192f3-pulp.mps max timeMode elapsed branch printingOptions all solution /var/folders/t_/v0rbfst90tz2msnttg7gck640000gn/T/cd5a3a1c30dc4b4b9ad7457cf4b192f3-pulp.sol (default strategy 1)\n",
      "At line 2 NAME          MODEL\n",
      "At line 3 ROWS\n",
      "At line 7 COLUMNS\n",
      "At line 16 RHS\n",
      "At line 19 BOUNDS\n",
      "At line 20 ENDATA\n",
      "Problem MODEL has 2 rows, 4 columns and 4 elements\n",
      "Coin0008I MODEL read with 0 errors\n",
      "Option for timeMode changed from cpu to elapsed\n",
      "Presolve 0 (-2) rows, 0 (-4) columns and 0 (-4) elements\n",
      "Empty problem - 0 rows, 0 columns and 0 elements\n",
      "Optimal - objective value 112000\n",
      "After Postsolve, objective 112000, infeasibilities - dual 0 (0), primal 0 (0)\n",
      "Optimal objective 112000 - 0 iterations time 0.002, Presolve 0.00\n",
      "Option for printingOptions changed from normal to all\n",
      "Total time (CPU seconds):       0.00   (Wallclock seconds):       0.00\n",
      "\n",
      "Objective =  112000.0\n"
     ]
    }
   ],
   "source": [
    "from pulp import LpProblem, LpMaximize, LpVariable, lpSum\n",
    "\n",
    "# Initialize model\n",
    "model = LpProblem(\"Crop Planning\", LpMaximize)\n",
    "\n",
    "# Parameters\n",
    "seasons = [1, 2]\n",
    "costs = {(1, 'Wheat'): 150, (1, 'Corn'): 230, (2, 'Wheat'): 130, (2, 'Corn'): 200}\n",
    "revenues = {(1, 'Wheat'): 500, (1, 'Corn'): 750, (2, 'Wheat'): 600, (2, 'Corn'): 800}\n",
    "land_limit = 100\n",
    "\n",
    "# Decision variables\n",
    "w = LpVariable.dicts(\"Wheat\", seasons, lowBound=0)\n",
    "c = LpVariable.dicts(\"Corn\", seasons, lowBound=0)\n",
    "\n",
    "# Objective function\n",
    "model += lpSum([(revenues[(s, 'Wheat')] - costs[(s, 'Wheat')]) * w[s] + \n",
    "                (revenues[(s, 'Corn')] - costs[(s, 'Corn')]) * c[s] for s in seasons])\n",
    "\n",
    "# Constraints\n",
    "for s in seasons:\n",
    "    model += w[s] + c[s] <= land_limit, \"LandLimitSeason{}\".format(s)\n",
    "\n",
    "# Solve\n",
    "model.solve()\n",
    "\n",
    "# Output\n",
    "print(\"Objective = \", model.objective.value())\n",
    "\n"
   ]
  }
 ],
 "metadata": {
  "kernelspec": {
   "display_name": "base",
   "language": "python",
   "name": "python3"
  },
  "language_info": {
   "codemirror_mode": {
    "name": "ipython",
    "version": 3
   },
   "file_extension": ".py",
   "mimetype": "text/x-python",
   "name": "python",
   "nbconvert_exporter": "python",
   "pygments_lexer": "ipython3",
   "version": "3.11.4"
  }
 },
 "nbformat": 4,
 "nbformat_minor": 2
}
